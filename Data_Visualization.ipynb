{
 "cells": [
  {
   "cell_type": "code",
   "execution_count": null,
   "id": "694b3d34-f496-4acb-b950-bce7852efac0",
   "metadata": {},
   "outputs": [],
   "source": []
  }
 ],
 "metadata": {
  "kernelspec": {
   "display_name": "",
   "name": ""
  },
  "language_info": {
   "name": ""
  }
 },
 "nbformat": 4,
 "nbformat_minor": 5
}
