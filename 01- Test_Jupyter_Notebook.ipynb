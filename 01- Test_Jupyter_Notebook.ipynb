{
 "cells": [
  {
   "cell_type": "markdown",
   "id": "64970249-757c-41e9-b6e4-e63086494a48",
   "metadata": {},
   "source": [
    "# My first programe in python\n",
    "## How to use Jupyter notebook \n",
    "### Basic of python"
   ]
  },
  {
   "cell_type": "markdown",
   "id": "0a1a7013-36ba-42a0-8c9d-8b6d9ce60565",
   "metadata": {},
   "source": [
    "**01- My first programe in Python**"
   ]
  },
  {
   "cell_type": "code",
   "execution_count": 1,
   "id": "246f6d18-c7ea-4637-9a44-db53f6436257",
   "metadata": {
    "scrolled": true
   },
   "outputs": [
    {
     "name": "stdout",
     "output_type": "stream",
     "text": [
      "7\n",
      "we are learning python with baba aamm\n",
      "python is very important progamming language\n",
      "Hello world\n"
     ]
    }
   ],
   "source": [
    "print(2+5)\n",
    "print(\"we are learning python with baba aamm\")\n",
    "print(\"python is very important progamming language\")\n",
    "print(\"Hello world\")"
   ]
  },
  {
   "cell_type": "markdown",
   "id": "c6896530-2fd7-43de-9ee8-7bf20cc1d6b7",
   "metadata": {},
   "source": [
    "**02- Operators**"
   ]
  },
  {
   "cell_type": "code",
   "execution_count": 2,
   "id": "1461f966-4723-4cf8-aa6c-8817c323689e",
   "metadata": {},
   "outputs": [
    {
     "name": "stdout",
     "output_type": "stream",
     "text": [
      "58\n",
      "5\n",
      "86\n",
      "9.0\n",
      "3\n",
      "9\n",
      "125\n",
      "27\n",
      "4\n",
      "6.640000000000001\n"
     ]
    }
   ],
   "source": [
    "print(2+56)\n",
    "print(20-15)\n",
    "print(2*43)\n",
    "print(45/5)\n",
    "print(45%7)\n",
    "print(45//5)\n",
    "\n",
    "print(5**3)\n",
    "print(3**3)\n",
    "print(2**2)\n",
    "\n",
    "print((2*3)**2/5*6/5-2)\n"
   ]
  },
  {
   "cell_type": "markdown",
   "id": "df5029f6-af11-4b32-a892-29de3d1edf71",
   "metadata": {},
   "source": [
    "*PEMDAS\n",
    "Parenthesis Exponent Multiply Division Addition and Substraction \n",
    "left to right sequence for M D & A S*"
   ]
  },
  {
   "cell_type": "markdown",
   "id": "97c18fbd-cf4e-4994-b255-c91b4b383856",
   "metadata": {},
   "source": [
    "**03- strings**"
   ]
  },
  {
   "cell_type": "code",
   "execution_count": 3,
   "id": "cbc7dfc7-d490-475e-819f-1364833568b1",
   "metadata": {},
   "outputs": [
    {
     "name": "stdout",
     "output_type": "stream",
     "text": [
      "we are learning python with baba ammar\n",
      "python is very important progamming language\n",
      "Hello world\n",
      "test for single quotes\n",
      "test for double quotes\n",
      "test for triple quotes\n",
      "    what's up bro   ?\n"
     ]
    }
   ],
   "source": [
    "print(\"we are learning python with baba ammar\")\n",
    "print(\"python is very important progamming language\")\n",
    "print(\"Hello world\")\n",
    "\n",
    "print('test for single quotes')\n",
    "print(\"test for double quotes\")\n",
    "print('''test for triple quotes''')\n",
    "\n",
    "print(\"    what's up bro   ?\")"
   ]
  },
  {
   "cell_type": "markdown",
   "id": "16aca171-3811-44ea-9c5d-752f1a381670",
   "metadata": {},
   "source": [
    "**04-Comments**"
   ]
  },
  {
   "cell_type": "code",
   "execution_count": 4,
   "id": "64feea45-e568-4ce1-8b03-26dd998d1a43",
   "metadata": {},
   "outputs": [
    {
     "name": "stdout",
     "output_type": "stream",
     "text": [
      "7\n",
      "we are learning python with baba aamm\n",
      "python is very important progamming language\n",
      "Hello world\n",
      "68\n"
     ]
    }
   ],
   "source": [
    "print(2+5) \n",
    "print(\"we are learning python with baba aamm\")                #print a string\n",
    "print(\"python is very important progamming language\")         #print a string\n",
    "print(\"Hello world\")\n",
    "print(23+45)                         #print operators fucntion with numbers\n",
    "\n",
    "# comment out short cut key       (ctrl+/) "
   ]
  },
  {
   "cell_type": "markdown",
   "id": "63f88392-ecd3-4867-923e-a294fd301e1d",
   "metadata": {},
   "source": [
    "**05- Variables**"
   ]
  },
  {
   "cell_type": "code",
   "execution_count": 5,
   "id": "df953ec3-1568-4128-93d1-6ede84921a5e",
   "metadata": {},
   "outputs": [
    {
     "name": "stdout",
     "output_type": "stream",
     "text": [
      "5\n",
      "we are learning python with baba aammar\n",
      "20\n",
      "19\n",
      "<class 'int'>\n"
     ]
    }
   ],
   "source": [
    "x= 5   \n",
    "print(x)\n",
    "\n",
    "y=\"we are learning python with baba aammar\"  # string variable\n",
    "print(y) \n",
    "\n",
    "x= x+15\n",
    "print(x)\n",
    "\n",
    "fruit_basket= 19\n",
    "print(fruit_basket)\n",
    "print(type(fruit_basket))"
   ]
  },
  {
   "cell_type": "markdown",
   "id": "2acc2c98-26d4-405b-9563-49c040713b96",
   "metadata": {},
   "source": [
    "**06-Input variables**"
   ]
  },
  {
   "cell_type": "code",
   "execution_count": 3,
   "id": "07c8eec5-00e6-4c01-b481-cb334104d1e4",
   "metadata": {},
   "outputs": [
    {
     "name": "stdin",
     "output_type": "stream",
     "text": [
      "what is your name?  Aamir raza\n"
     ]
    },
    {
     "name": "stdout",
     "output_type": "stream",
     "text": [
      "Hello Aamir raza\n"
     ]
    }
   ],
   "source": [
    "#fruit_basket= \"mangoes\"\n",
    "#print(fruit_basket)\n",
    "\n",
    "\n",
    "#input function\n",
    "#fruit_basket=input(\"what is your favorate fruit?\")\n",
    "#print(fruit_basket)\n",
    "\n",
    "# input function of 2nd stage\n",
    "name=input(\"what is your name? \")\n",
    "greeting= (\"Hello\")\n",
    "print(greeting, name)\n",
    "\n",
    "#age=input(\"what is your age? \")\n",
    "#print(age)\n",
    "\n",
    "# another way of 3rd stage of input fuction\n",
    "#name=input(\"what is your sister name? \")\n",
    "#print(\"nice name\")\n",
    "\n",
    "\n",
    "# 4th stage of input function \n",
    "#name=input(\"what is your name? \")\n",
    "#age= input(\"how old are you? \")\n",
    "# greetings= \"Hello!\"\n",
    "#print(\"you are still young\", name) "
   ]
  },
  {
   "cell_type": "markdown",
   "id": "1796d174-f95e-45c5-85e1-b47bdbcbe1de",
   "metadata": {},
   "source": [
    "**07-Conditional_logics**"
   ]
  },
  {
   "cell_type": "code",
   "execution_count": 2,
   "id": "952c35fd-01ce-468d-910d-b334b1ef9441",
   "metadata": {},
   "outputs": [
    {
     "name": "stdin",
     "output_type": "stream",
     "text": [
      "How old is hammad?  5\n"
     ]
    },
    {
     "name": "stdout",
     "output_type": "stream",
     "text": [
      "<class 'int'>\n",
      "True\n"
     ]
    }
   ],
   "source": [
    "#logical operators are either (true or false), (yes or no), (0 or 1)\n",
    "# equal to                          ==\n",
    "# not equal to                      !=\n",
    "# less than                         <\n",
    "# greater than                      >\n",
    "# lss than or equal to              <=\n",
    "# greater than or equal to          >=\n",
    "\n",
    "# is 4 equal to 4\n",
    "# print(4==4)\n",
    "# print(4!=4 )\n",
    "\n",
    "# applications of logical operators\n",
    "# hammad_age= 4\n",
    "# age_at_school=5\n",
    "# print(hammad_age==age_at_school)\n",
    "\n",
    "# input function and logicals operators\n",
    "age_at_school= 5 \n",
    "hammad_age=input(\"How old is hammad? \")    # input function\n",
    "hammad_age=int(hammad_age)\n",
    "print(type(hammad_age))\n",
    "print(hammad_age==age_at_school)         # logical operators "
   ]
  },
  {
   "cell_type": "markdown",
   "id": "8cf0b99e-a73e-4e60-9cbe-92867cfee850",
   "metadata": {},
   "source": [
    "**08-Type_Conversion**"
   ]
  },
  {
   "cell_type": "code",
   "execution_count": 4,
   "id": "ef995d10-a283-4a04-a6c3-42dc665d4f43",
   "metadata": {},
   "outputs": [
    {
     "name": "stdin",
     "output_type": "stream",
     "text": [
      "what is your age?  5\n"
     ]
    },
    {
     "name": "stdout",
     "output_type": "stream",
     "text": [
      "5 <class 'int'>\n"
     ]
    }
   ],
   "source": [
    "# x= 10           # integer\n",
    "# y= 112.9        # float\n",
    "# z= \"Hello\"      # string\n",
    "\n",
    "\n",
    "# # Implicit type conversion\n",
    "# x=x+y\n",
    "# print(x,\"Type of x is:\", type(x))\n",
    "\n",
    "\n",
    "# explicit type function \n",
    "age=input(\"what is your age? \")\n",
    "age=int(age)\n",
    "print(age, type(int(age))) "
   ]
  },
  {
   "cell_type": "markdown",
   "id": "41ab7fdc-8370-496e-8090-d56327c2056d",
   "metadata": {},
   "source": [
    "**09-if_else_elif**"
   ]
  },
  {
   "cell_type": "code",
   "execution_count": 1,
   "id": "09a95d73-a858-437b-88c6-8ddc206bfd90",
   "metadata": {},
   "outputs": [
    {
     "name": "stdout",
     "output_type": "stream",
     "text": [
      "Awaise can go to school\n"
     ]
    }
   ],
   "source": [
    "required_age_at_school= 5\n",
    "Awaise_age=5\n",
    "\n",
    "# Can awaise go to school\n",
    "if Awaise_age==required_age_at_school:\n",
    "    print(\"Awaise can go to school\")\n",
    "\n",
    "elif Awaise_age > required_age_at_school:\n",
    "    print(\"Awaise should join the higher secondary school\")\n",
    "\n",
    "elif Awaise_age == 2:\n",
    "    print(\"awasie is still a baby\")\n",
    "\n",
    "else:\n",
    "    print(\"awaise can not go to school\")"
   ]
  },
  {
   "cell_type": "markdown",
   "id": "be7615ca-310c-42e0-a4bf-2ba9a4598b68",
   "metadata": {},
   "source": [
    "**10-Functions**"
   ]
  },
  {
   "cell_type": "code",
   "execution_count": 1,
   "id": "36ceb5c5-ef05-44c9-9289-49a7299037c8",
   "metadata": {},
   "outputs": [
    {
     "name": "stdout",
     "output_type": "stream",
     "text": [
      "20\n"
     ]
    }
   ],
   "source": [
    "# defining a functions\n",
    "# 1 \n",
    "# def print_codenics():\n",
    "#     print(\"we are leaning python with baba Aammmar\")\n",
    "#     print(\"we are leaning python with baba Aammmar\")\n",
    "#     print(\"we are leaning python with baba Aammmar\")\n",
    "#     print(\"we are leaning python with baba Aammmar\")\n",
    "\n",
    "# print_codenics()\n",
    "\n",
    "# 2 \n",
    "# def print_codenics():\n",
    "#     text=\"we are learning python with Baba Aammar through the youtube channel\" \n",
    "#     print(text)\n",
    "#     print(text)\n",
    "#     print(text)\n",
    "# print_codenics()\n",
    "\n",
    "# 3\n",
    "# def print_codenics(text):\n",
    "#     print(text)\n",
    "#     print(text)\n",
    "#     print(text)\n",
    "#     print(text)\n",
    "\n",
    "# print_codenics(\"we are learning python with baba aammar\")\n",
    "\n",
    "\n",
    "# defining a function with if elif and else statemnent\n",
    "# 4\n",
    "# def school_calculator(age, text):\n",
    "#     if age==5:\n",
    "#         print(\"awaise can join the school\")\n",
    "#     elif age>5:\n",
    "#         print(\"awaise should go to the higher school\")\n",
    "#     else:\n",
    "#         print(\"awaise is still a baby so no need to join the school\")\n",
    "\n",
    "\n",
    "# school_calculator(2, \"awaise\")\n",
    "\n",
    "\n",
    "# # defining a fucntion of future\n",
    "\n",
    "def future_age(age):\n",
    "    new_age=age+15\n",
    "    return new_age\n",
    "\n",
    "future_predected_age=future_age(5)\n",
    "print(future_predected_age)"
   ]
  },
  {
   "cell_type": "markdown",
   "id": "aa66a151-4fb9-438d-a9b4-518206860395",
   "metadata": {},
   "source": [
    "**11-loops**"
   ]
  },
  {
   "cell_type": "code",
   "execution_count": 1,
   "id": "75e02faf-520c-4480-a85d-305e6b35f981",
   "metadata": {},
   "outputs": [
    {
     "name": "stdout",
     "output_type": "stream",
     "text": [
      "Mon\n",
      "Tues\n",
      "Wed\n",
      "Thurs\n",
      "Sat\n",
      "Sun\n"
     ]
    }
   ],
   "source": [
    "# while and For loops\n",
    "\n",
    "\n",
    "# while loops \n",
    "\n",
    "# x=0\n",
    "# while (x<=5):\n",
    "#     print(x)\n",
    "#     x=x+1\n",
    "\n",
    "#for loops\n",
    "\n",
    "# for x in range (5, 11):\n",
    "#     print(x)\n",
    "\n",
    "\n",
    "# array\n",
    "days = [\"Mon\", \"Tues\", \"Wed\", \"Thurs\", \"Fri\", \"Sat\",\"Sun\"]\n",
    "\n",
    "for d in days:\n",
    "    # if (d==\"Sat\"):break          # loops stops\n",
    "    if (d==\"Fri\"): continue        # \"d\" will skip\n",
    "    print(d)\n"
   ]
  },
  {
   "cell_type": "markdown",
   "id": "dbf64baf-a8a4-4a25-bd1b-54fd8a076d93",
   "metadata": {},
   "source": [
    "**12-import_libraries**"
   ]
  },
  {
   "cell_type": "code",
   "execution_count": 1,
   "id": "5f230681-c7aa-4df9-ad4a-e825eca5fff1",
   "metadata": {},
   "outputs": [
    {
     "name": "stdout",
     "output_type": "stream",
     "text": [
      "The value of pi is 3.141592653589793\n",
      "360\n"
     ]
    }
   ],
   "source": [
    "# if you want to print the value of pi\n",
    "\n",
    "import math\n",
    "print(\"The value of pi is\", math.pi)\n",
    "\n",
    "import statistics\n",
    "\n",
    "x= [125,345,360,678,9000]\n",
    "\n",
    "print(statistics.median(x))\n",
    "\n",
    "\n",
    "# Some important libraries numpy, pandas, etc"
   ]
  },
  {
   "cell_type": "markdown",
   "id": "dacb40d3-271f-40b6-ba90-55eb05015c69",
   "metadata": {},
   "source": [
    "**13-Trouble_shooting**"
   ]
  },
  {
   "cell_type": "code",
   "execution_count": 1,
   "id": "864614b9-24ae-4d33-bccf-8d0fd65bb3a4",
   "metadata": {},
   "outputs": [
    {
     "name": "stdout",
     "output_type": "stream",
     "text": [
      "Hello name\n"
     ]
    }
   ],
   "source": [
    "# print(we are learning python with Aammar)     # syntax error\n",
    "\n",
    "\n",
    "#print(25/0)             # Zero division error or Runtime error\n",
    "\n",
    "\n",
    "name= \"Aamir Raza\"\n",
    "\n",
    "print(\"Hello name\")                             # symantic error"
   ]
  }
 ],
 "metadata": {
  "kernelspec": {
   "display_name": "Python 3 (ipykernel)",
   "language": "python",
   "name": "python3"
  },
  "language_info": {
   "codemirror_mode": {
    "name": "ipython",
    "version": 3
   },
   "file_extension": ".py",
   "mimetype": "text/x-python",
   "name": "python",
   "nbconvert_exporter": "python",
   "pygments_lexer": "ipython3",
   "version": "3.12.7"
  }
 },
 "nbformat": 4,
 "nbformat_minor": 5
}
