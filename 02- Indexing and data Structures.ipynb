{
 "cells": [
  {
   "cell_type": "markdown",
   "id": "32d58e85-fa9b-414d-870a-edf3bc0d02a1",
   "metadata": {},
   "source": [
    "#- **Indexing**"
   ]
  },
  {
   "cell_type": "code",
   "execution_count": 1,
   "id": "ffdced87-5f8d-4d12-9ac5-1f2dd5e5d1c4",
   "metadata": {},
   "outputs": [
    {
     "data": {
      "text/plain": [
       "'samosa and pakora'"
      ]
     },
     "execution_count": 1,
     "metadata": {},
     "output_type": "execute_result"
    }
   ],
   "source": [
    "# make a string\n",
    "a= \"samosa and pakora\"\n",
    "a"
   ]
  },
  {
   "cell_type": "code",
   "execution_count": 9,
   "id": "9b83ec91-8fef-405e-91a2-7c943a6e5f60",
   "metadata": {},
   "outputs": [
    {
     "data": {
      "text/plain": [
       "17"
      ]
     },
     "execution_count": 9,
     "metadata": {},
     "output_type": "execute_result"
    }
   ],
   "source": [
    "#length of indexes\n",
    "len(a)"
   ]
  },
  {
   "cell_type": "code",
   "execution_count": 2,
   "id": "19da6c73-b6b9-428b-b509-93faec9c295c",
   "metadata": {},
   "outputs": [
    {
     "data": {
      "text/plain": [
       "'s'"
      ]
     },
     "execution_count": 2,
     "metadata": {},
     "output_type": "execute_result"
    }
   ],
   "source": [
    "a[0]"
   ]
  },
  {
   "cell_type": "code",
   "execution_count": 3,
   "id": "6cdf4498-b67c-4876-bb37-2f5596d481b6",
   "metadata": {},
   "outputs": [
    {
     "data": {
      "text/plain": [
       "'a'"
      ]
     },
     "execution_count": 3,
     "metadata": {},
     "output_type": "execute_result"
    }
   ],
   "source": [
    "a[1]"
   ]
  },
  {
   "cell_type": "code",
   "execution_count": 4,
   "id": "f9242a88-84b3-45c7-afa3-8b90408d3c94",
   "metadata": {},
   "outputs": [
    {
     "data": {
      "text/plain": [
       "'m'"
      ]
     },
     "execution_count": 4,
     "metadata": {},
     "output_type": "execute_result"
    }
   ],
   "source": [
    "a[2]"
   ]
  },
  {
   "cell_type": "code",
   "execution_count": 8,
   "id": "5349a8a8-4a5f-431e-8f9f-4f9e24db4f4a",
   "metadata": {},
   "outputs": [
    {
     "data": {
      "text/plain": [
       "'a'"
      ]
     },
     "execution_count": 8,
     "metadata": {},
     "output_type": "execute_result"
    }
   ],
   "source": [
    "a[7]"
   ]
  },
  {
   "cell_type": "code",
   "execution_count": 12,
   "id": "298f60a9-f908-41ca-82e2-255817a5bb6a",
   "metadata": {},
   "outputs": [
    {
     "data": {
      "text/plain": [
       "'samosa and'"
      ]
     },
     "execution_count": 12,
     "metadata": {},
     "output_type": "execute_result"
    }
   ],
   "source": [
    "a[0:10]"
   ]
  },
  {
   "cell_type": "code",
   "execution_count": 14,
   "id": "1c72f3a8-525c-45f0-b9a8-dc3739a294d1",
   "metadata": {},
   "outputs": [
    {
     "data": {
      "text/plain": [
       "'samosa and pakora'"
      ]
     },
     "execution_count": 14,
     "metadata": {},
     "output_type": "execute_result"
    }
   ],
   "source": [
    "# last index is the exclusive \n",
    "a[0:17]"
   ]
  },
  {
   "cell_type": "code",
   "execution_count": 15,
   "id": "92562da1-d997-4546-856f-45e538583d9a",
   "metadata": {},
   "outputs": [
    {
     "data": {
      "text/plain": [
       "'r'"
      ]
     },
     "execution_count": 15,
     "metadata": {},
     "output_type": "execute_result"
    }
   ],
   "source": [
    "a[-2]"
   ]
  },
  {
   "cell_type": "code",
   "execution_count": 18,
   "id": "ba50ef8e-2683-4993-aadd-8adeb79e0fa7",
   "metadata": {},
   "outputs": [
    {
     "data": {
      "text/plain": [
       "'pakor'"
      ]
     },
     "execution_count": 18,
     "metadata": {},
     "output_type": "execute_result"
    }
   ],
   "source": [
    "a[-6:-1]"
   ]
  },
  {
   "cell_type": "markdown",
   "id": "1eceb24b-a4d1-4017-b5da-ae6bc3a6efb7",
   "metadata": {},
   "source": [
    "## String methods"
   ]
  },
  {
   "cell_type": "code",
   "execution_count": 19,
   "id": "2967559e-5d77-4c3c-bab1-8a15724961f5",
   "metadata": {},
   "outputs": [
    {
     "data": {
      "text/plain": [
       "'biryani'"
      ]
     },
     "execution_count": 19,
     "metadata": {},
     "output_type": "execute_result"
    }
   ],
   "source": [
    "food= \"biryani\"\n",
    "food"
   ]
  },
  {
   "cell_type": "code",
   "execution_count": 20,
   "id": "77ee555b-827a-431d-9339-ee17051c5b89",
   "metadata": {},
   "outputs": [
    {
     "data": {
      "text/plain": [
       "7"
      ]
     },
     "execution_count": 20,
     "metadata": {},
     "output_type": "execute_result"
    }
   ],
   "source": [
    "len(food)"
   ]
  },
  {
   "cell_type": "code",
   "execution_count": 22,
   "id": "b6dccf5d-57a6-4d95-8185-5f43170b0c3b",
   "metadata": {},
   "outputs": [
    {
     "data": {
      "text/plain": [
       "'Biryani'"
      ]
     },
     "execution_count": 22,
     "metadata": {},
     "output_type": "execute_result"
    }
   ],
   "source": [
    "food.capitalize()"
   ]
  },
  {
   "cell_type": "code",
   "execution_count": 23,
   "id": "ac3b05d6-210c-47e3-89c3-238da5139eff",
   "metadata": {},
   "outputs": [
    {
     "data": {
      "text/plain": [
       "'BIRYANI'"
      ]
     },
     "execution_count": 23,
     "metadata": {},
     "output_type": "execute_result"
    }
   ],
   "source": [
    "#uppercase letter\n",
    "food.upper()"
   ]
  },
  {
   "cell_type": "code",
   "execution_count": 24,
   "id": "8a873772-4b47-4677-b431-7784ba35ee2d",
   "metadata": {},
   "outputs": [
    {
     "data": {
      "text/plain": [
       "'biryani'"
      ]
     },
     "execution_count": 24,
     "metadata": {},
     "output_type": "execute_result"
    }
   ],
   "source": [
    "#lowercase letter\n",
    "food.lower()"
   ]
  },
  {
   "cell_type": "code",
   "execution_count": 25,
   "id": "6f330296-c813-4d33-b0a9-619ac52699f5",
   "metadata": {},
   "outputs": [
    {
     "data": {
      "text/plain": [
       "'Shiryani'"
      ]
     },
     "execution_count": 25,
     "metadata": {},
     "output_type": "execute_result"
    }
   ],
   "source": [
    "#replace\n",
    "food.replace(\"b\", \"Sh\")"
   ]
  },
  {
   "cell_type": "code",
   "execution_count": 27,
   "id": "f716a18e-b668-49db-b7d9-727637da3735",
   "metadata": {},
   "outputs": [
    {
     "data": {
      "text/plain": [
       "'raita'"
      ]
     },
     "execution_count": 27,
     "metadata": {},
     "output_type": "execute_result"
    }
   ],
   "source": [
    "food.replace(\"biryani\",\"raita\")"
   ]
  },
  {
   "cell_type": "code",
   "execution_count": 28,
   "id": "0e42d3a1-305b-48c2-b913-e7c0c60fde79",
   "metadata": {},
   "outputs": [
    {
     "data": {
      "text/plain": [
       "'Me aamir raza brohi working as school teacher'"
      ]
     },
     "execution_count": 28,
     "metadata": {},
     "output_type": "execute_result"
    }
   ],
   "source": [
    "#counting a specific alphabet in string\n",
    "name= \"Me aamir raza brohi working as school teacher\"\n",
    "name"
   ]
  },
  {
   "cell_type": "code",
   "execution_count": 29,
   "id": "3d9ca8c6-8804-4495-b278-0d273e54346a",
   "metadata": {},
   "outputs": [
    {
     "data": {
      "text/plain": [
       "6"
      ]
     },
     "execution_count": 29,
     "metadata": {},
     "output_type": "execute_result"
    }
   ],
   "source": [
    "name.count(\"a\")"
   ]
  },
  {
   "cell_type": "code",
   "execution_count": 30,
   "id": "c90cb42a-1690-4f88-afd0-98abc9729ad0",
   "metadata": {},
   "outputs": [
    {
     "data": {
      "text/plain": [
       "3"
      ]
     },
     "execution_count": 30,
     "metadata": {},
     "output_type": "execute_result"
    }
   ],
   "source": [
    "name.count(\"e\")"
   ]
  },
  {
   "cell_type": "code",
   "execution_count": 31,
   "id": "b54a3126-5712-4282-9a91-0af4f6178c85",
   "metadata": {},
   "outputs": [
    {
     "data": {
      "text/plain": [
       "4"
      ]
     },
     "execution_count": 31,
     "metadata": {},
     "output_type": "execute_result"
    }
   ],
   "source": [
    "name.count(\"o\")"
   ]
  },
  {
   "cell_type": "code",
   "execution_count": null,
   "id": "9474e8fd-e9d6-4140-b42c-54607b53be56",
   "metadata": {},
   "outputs": [],
   "source": [
    "##- finding an index number in string"
   ]
  },
  {
   "cell_type": "code",
   "execution_count": 32,
   "id": "0bb8c949-6633-4ff0-bb75-b8064c9b9060",
   "metadata": {},
   "outputs": [
    {
     "data": {
      "text/plain": [
       "'Me aamir raza brohi working as school teacher'"
      ]
     },
     "execution_count": 32,
     "metadata": {},
     "output_type": "execute_result"
    }
   ],
   "source": [
    "name= \"Me aamir raza brohi working as school teacher\"\n",
    "name"
   ]
  },
  {
   "cell_type": "code",
   "execution_count": 38,
   "id": "e9633079-eb5b-4d14-bed8-7873a625c5bf",
   "metadata": {},
   "outputs": [
    {
     "data": {
      "text/plain": [
       "17"
      ]
     },
     "execution_count": 38,
     "metadata": {},
     "output_type": "execute_result"
    }
   ],
   "source": [
    "name.find(\"h\")"
   ]
  },
  {
   "cell_type": "code",
   "execution_count": 41,
   "id": "81be6495-cf33-4f84-adf7-41dd2bf4fba7",
   "metadata": {},
   "outputs": [
    {
     "data": {
      "text/plain": [
       "'I love samosa, pakora, raita, biryani and karai'"
      ]
     },
     "execution_count": 41,
     "metadata": {},
     "output_type": "execute_result"
    }
   ],
   "source": [
    "###- How to split a stirng\n",
    "food= \"I love samosa, pakora, raita, biryani and karai\"\n",
    "food"
   ]
  },
  {
   "cell_type": "code",
   "execution_count": 42,
   "id": "6cbededd-55ed-4384-9d10-6bedf608f013",
   "metadata": {},
   "outputs": [
    {
     "data": {
      "text/plain": [
       "['I love samosa', ' pakora', ' raita', ' biryani and karai']"
      ]
     },
     "execution_count": 42,
     "metadata": {},
     "output_type": "execute_result"
    }
   ],
   "source": [
    "food.split(\",\")"
   ]
  },
  {
   "cell_type": "code",
   "execution_count": null,
   "id": "9472f78e-4d90-4d48-bb0c-c96fa43a3930",
   "metadata": {},
   "outputs": [],
   "source": []
  },
  {
   "cell_type": "markdown",
   "id": "2f28e8fc-8e71-48fd-b3a3-26950b273d8b",
   "metadata": {},
   "source": [
    " ## Basic data structure in Python\n",
    " ### 1- Tuples\n",
    "\n",
    " ### 2- List\n",
    "\n",
    " ### 3-Dictionaries\n",
    "\n",
    " ### 4- Set"
   ]
  },
  {
   "cell_type": "markdown",
   "id": "a433d5ba-d623-4079-b3fd-9b9145a941cd",
   "metadata": {},
   "source": [
    "## 1- Tuples\n",
    "- Ordered collection of elemants \n",
    "- enclosed in () round braces or parenthesis\n",
    "- Differents kind of elemants can be stored\n",
    "- oNce elemants are stored which can not be changed"
   ]
  },
  {
   "cell_type": "code",
   "execution_count": 4,
   "id": "e17a48ad-48ad-47db-b2f0-ba80badd1bd1",
   "metadata": {},
   "outputs": [
    {
     "data": {
      "text/plain": [
       "(1, 'Aamir', True, 2.56666)"
      ]
     },
     "execution_count": 4,
     "metadata": {},
     "output_type": "execute_result"
    }
   ],
   "source": [
    "tup1 = (1, \"Aamir\", True, 2.56666)\n",
    "tup1"
   ]
  },
  {
   "cell_type": "code",
   "execution_count": 5,
   "id": "95b78a8e-e0f2-4abe-aefb-1b2fbacd9de4",
   "metadata": {},
   "outputs": [
    {
     "data": {
      "text/plain": [
       "tuple"
      ]
     },
     "execution_count": 5,
     "metadata": {},
     "output_type": "execute_result"
    }
   ],
   "source": [
    "# type of tuple\n",
    "type(tup1)"
   ]
  },
  {
   "cell_type": "markdown",
   "id": "2a2879a7-b27e-4380-afbb-afd0f34535c7",
   "metadata": {},
   "source": [
    "### - Indexing in Tuple"
   ]
  },
  {
   "cell_type": "code",
   "execution_count": 5,
   "id": "5ca135a5-c1f1-4c57-9cae-abffd4324d1e",
   "metadata": {},
   "outputs": [
    {
     "data": {
      "text/plain": [
       "(1, 'Aamir', True, 2.56666)"
      ]
     },
     "execution_count": 5,
     "metadata": {},
     "output_type": "execute_result"
    }
   ],
   "source": [
    "tup1 = (1, \"Aamir\", True, 2.56666)\n",
    "tup1"
   ]
  },
  {
   "cell_type": "code",
   "execution_count": 7,
   "id": "6cf864c4-8854-4947-ba04-3ca1db0dfd94",
   "metadata": {},
   "outputs": [
    {
     "data": {
      "text/plain": [
       "'Aamir'"
      ]
     },
     "execution_count": 7,
     "metadata": {},
     "output_type": "execute_result"
    }
   ],
   "source": [
    "tup1[1]"
   ]
  },
  {
   "cell_type": "code",
   "execution_count": 8,
   "id": "4a54f6f6-56a4-4bce-92a6-29d881313584",
   "metadata": {},
   "outputs": [
    {
     "data": {
      "text/plain": [
       "2.56666"
      ]
     },
     "execution_count": 8,
     "metadata": {},
     "output_type": "execute_result"
    }
   ],
   "source": [
    "tup1[3]"
   ]
  },
  {
   "cell_type": "code",
   "execution_count": 9,
   "id": "53bef07a-0da1-4b88-9d62-0b45f16e34dc",
   "metadata": {},
   "outputs": [
    {
     "data": {
      "text/plain": [
       "1"
      ]
     },
     "execution_count": 9,
     "metadata": {},
     "output_type": "execute_result"
    }
   ],
   "source": [
    "tup1[0]"
   ]
  },
  {
   "cell_type": "code",
   "execution_count": 17,
   "id": "3f9ca1af-b993-43c4-b8ce-fb512b4b176b",
   "metadata": {},
   "outputs": [
    {
     "data": {
      "text/plain": [
       "(1, 'Aamir', True)"
      ]
     },
     "execution_count": 17,
     "metadata": {},
     "output_type": "execute_result"
    }
   ],
   "source": [
    "# last element is exlusive\n",
    "tup1[0:3]"
   ]
  },
  {
   "cell_type": "code",
   "execution_count": 19,
   "id": "3519061c-842b-42e0-8b8e-bcf91ae9b13b",
   "metadata": {},
   "outputs": [
    {
     "data": {
      "text/plain": [
       "4"
      ]
     },
     "execution_count": 19,
     "metadata": {},
     "output_type": "execute_result"
    }
   ],
   "source": [
    "len(tup1)"
   ]
  },
  {
   "cell_type": "code",
   "execution_count": 19,
   "id": "806d1cae-8ce2-42cb-9608-0c0dfc9d7c20",
   "metadata": {},
   "outputs": [
    {
     "data": {
      "text/plain": [
       "[2, 'Awaise', False, 3.555]"
      ]
     },
     "execution_count": 19,
     "metadata": {},
     "output_type": "execute_result"
    }
   ],
   "source": [
    "tup2 = [2, \"Awaise\", False, 3.555]\n",
    "tup2"
   ]
  },
  {
   "cell_type": "code",
   "execution_count": 20,
   "id": "5af0021d-795b-4482-a693-819c5f8ef2f1",
   "metadata": {},
   "outputs": [
    {
     "data": {
      "text/plain": [
       "[2, 'Awaise', False, 3.555, 2, 'Awaise', False, 3.555]"
      ]
     },
     "execution_count": 20,
     "metadata": {},
     "output_type": "execute_result"
    }
   ],
   "source": [
    "tup2*2"
   ]
  },
  {
   "cell_type": "code",
   "execution_count": 24,
   "id": "38642a26-34b0-4f09-b2f2-a72f3904563f",
   "metadata": {},
   "outputs": [
    {
     "data": {
      "text/plain": [
       "[20, 30, 4555, 467]"
      ]
     },
     "execution_count": 24,
     "metadata": {},
     "output_type": "execute_result"
    }
   ],
   "source": [
    "tup3=[20,30,4555,467]\n",
    "tup3"
   ]
  },
  {
   "cell_type": "code",
   "execution_count": 25,
   "id": "4595356a-1fb2-489a-a1ac-aef8ac32777b",
   "metadata": {},
   "outputs": [
    {
     "data": {
      "text/plain": [
       "20"
      ]
     },
     "execution_count": 25,
     "metadata": {},
     "output_type": "execute_result"
    }
   ],
   "source": [
    "# find the minimum value\n",
    "min(tup3)"
   ]
  },
  {
   "cell_type": "code",
   "execution_count": 26,
   "id": "8ecc8532-72d9-4276-8814-04749ca70aa3",
   "metadata": {},
   "outputs": [
    {
     "data": {
      "text/plain": [
       "4555"
      ]
     },
     "execution_count": 26,
     "metadata": {},
     "output_type": "execute_result"
    }
   ],
   "source": [
    "max(tup3)"
   ]
  },
  {
   "cell_type": "code",
   "execution_count": 27,
   "id": "2a7d5443-c0b7-4de3-9c10-50b8e8c29f81",
   "metadata": {},
   "outputs": [
    {
     "data": {
      "text/plain": [
       "[2, 'Awaise', False, 3.555, 20, 30, 4555, 467]"
      ]
     },
     "execution_count": 27,
     "metadata": {},
     "output_type": "execute_result"
    }
   ],
   "source": [
    "#concatenate (to add more than two tuples)\n",
    "tup2 + tup3"
   ]
  },
  {
   "cell_type": "code",
   "execution_count": 28,
   "id": "c537e47a-c69e-4bc8-a8b0-96925239e1cb",
   "metadata": {},
   "outputs": [
    {
     "data": {
      "text/plain": [
       "[20, 30, 4555, 467, 20, 30, 4555, 467]"
      ]
     },
     "execution_count": 28,
     "metadata": {},
     "output_type": "execute_result"
    }
   ],
   "source": [
    "tup3*2"
   ]
  },
  {
   "cell_type": "markdown",
   "id": "e752b63a-268e-4fc5-ba99-3d8ee572db31",
   "metadata": {},
   "source": [
    "## 2- list\n",
    "- ordered elements can be stored\n",
    "- enclosed in [] square brakets\n",
    "- Mutable or you can change the values "
   ]
  },
  {
   "cell_type": "code",
   "execution_count": 30,
   "id": "8c39bb6b-5101-4fdc-b010-1842077c2716",
   "metadata": {},
   "outputs": [
    {
     "data": {
      "text/plain": [
       "[1, 'Aamir', True, 2.56666]"
      ]
     },
     "execution_count": 30,
     "metadata": {},
     "output_type": "execute_result"
    }
   ],
   "source": [
    "list1= [1, \"Aamir\", True, 2.56666]\n",
    "list1"
   ]
  },
  {
   "cell_type": "code",
   "execution_count": 31,
   "id": "bbedfe19-dc8c-492b-850d-7e4660e84b89",
   "metadata": {},
   "outputs": [
    {
     "data": {
      "text/plain": [
       "2.56666"
      ]
     },
     "execution_count": 31,
     "metadata": {},
     "output_type": "execute_result"
    }
   ],
   "source": [
    "list1[3]"
   ]
  },
  {
   "cell_type": "code",
   "execution_count": 32,
   "id": "4f76afea-87af-4d10-a9f2-19cbad6f6030",
   "metadata": {},
   "outputs": [
    {
     "data": {
      "text/plain": [
       "4"
      ]
     },
     "execution_count": 32,
     "metadata": {},
     "output_type": "execute_result"
    }
   ],
   "source": [
    "len(list1)"
   ]
  },
  {
   "cell_type": "code",
   "execution_count": 33,
   "id": "54b1b202-1efd-43bf-9851-9ac954380724",
   "metadata": {},
   "outputs": [
    {
     "data": {
      "text/plain": [
       "[2, 'Aamir Raza', 'true', 345, 78.7]"
      ]
     },
     "execution_count": 33,
     "metadata": {},
     "output_type": "execute_result"
    }
   ],
   "source": [
    "list2=[2, \"Aamir Raza\", \"true\", 345, 78.7]\n",
    "list2"
   ]
  },
  {
   "cell_type": "code",
   "execution_count": 34,
   "id": "b657beeb-2229-4326-ab5d-3930cd0de933",
   "metadata": {},
   "outputs": [
    {
     "data": {
      "text/plain": [
       "[1, 'Aamir', True, 2.56666, 2, 'Aamir Raza', 'true', 345, 78.7]"
      ]
     },
     "execution_count": 34,
     "metadata": {},
     "output_type": "execute_result"
    }
   ],
   "source": [
    "list1 + list2"
   ]
  },
  {
   "cell_type": "code",
   "execution_count": 35,
   "id": "e4e6a415-7a63-4355-b05a-59a9d9cfbacc",
   "metadata": {},
   "outputs": [
    {
     "data": {
      "text/plain": [
       "[2.56666, True, 'Aamir', 1]"
      ]
     },
     "execution_count": 35,
     "metadata": {},
     "output_type": "execute_result"
    }
   ],
   "source": [
    "list1.reverse()\n",
    "list1"
   ]
  },
  {
   "cell_type": "code",
   "execution_count": 37,
   "id": "927b3124-2cea-4e8a-8bf1-fb8ebf88bca8",
   "metadata": {},
   "outputs": [
    {
     "data": {
      "text/plain": [
       "[2.56666, True, 'Aamir', 1, 'learning python', 'learning python']"
      ]
     },
     "execution_count": 37,
     "metadata": {},
     "output_type": "execute_result"
    }
   ],
   "source": [
    "list1.append(\"learning python\")\n",
    "list1"
   ]
  },
  {
   "cell_type": "code",
   "execution_count": 42,
   "id": "7bdf062a-b088-44ec-8ce7-e202c51fd4a1",
   "metadata": {},
   "outputs": [
    {
     "data": {
      "text/plain": [
       "[2.56666, True, 'Aamir', 1, 'learning python', 'learning python']"
      ]
     },
     "execution_count": 42,
     "metadata": {},
     "output_type": "execute_result"
    }
   ],
   "source": [
    "list1.count(0)\n",
    "list1"
   ]
  },
  {
   "cell_type": "code",
   "execution_count": 43,
   "id": "61d21071-6d96-4fd4-ac57-65f8871ef8d8",
   "metadata": {},
   "outputs": [
    {
     "data": {
      "text/plain": [
       "[20, 13, 45, 5, 6, 7, 88, 34, 56, 78, 90]"
      ]
     },
     "execution_count": 43,
     "metadata": {},
     "output_type": "execute_result"
    }
   ],
   "source": [
    "list3 = [20,13,45,5,6,7,88,34,56,78,90]\n",
    "list3"
   ]
  },
  {
   "cell_type": "code",
   "execution_count": 44,
   "id": "ff8fee3d-6381-4e35-98d8-e24ec0c76210",
   "metadata": {},
   "outputs": [
    {
     "data": {
      "text/plain": [
       "[5, 6, 7, 13, 20, 34, 45, 56, 78, 88, 90]"
      ]
     },
     "execution_count": 44,
     "metadata": {},
     "output_type": "execute_result"
    }
   ],
   "source": [
    "list3.sort()\n",
    "list3"
   ]
  },
  {
   "cell_type": "markdown",
   "id": "d594706c-4b06-4fcd-9a78-6b1291a7b0aa",
   "metadata": {},
   "source": [
    "## 3- Dictionaries\n",
    "- An unordered collection of elements\n",
    "- key and values\n",
    "- enclosed in curly or large brakets\n",
    "- Mutable or can change the values "
   ]
  },
  {
   "cell_type": "code",
   "execution_count": 1,
   "id": "b7e39224-0589-40fd-b647-c544178e3a2b",
   "metadata": {},
   "outputs": [
    {
     "data": {
      "text/plain": [
       "{'samosa': 30, 'pakora': 50, 'Raita': 40, 'Salad': 30}"
      ]
     },
     "execution_count": 1,
     "metadata": {},
     "output_type": "execute_result"
    }
   ],
   "source": [
    "# food and thier prices\n",
    "food1={\"samosa\":30, \"pakora\":50, \"Raita\":40, \"Salad\":30}\n",
    "food1"
   ]
  },
  {
   "cell_type": "code",
   "execution_count": 2,
   "id": "6a44343d-58b4-427b-8c88-08ae927ca22a",
   "metadata": {},
   "outputs": [
    {
     "data": {
      "text/plain": [
       "dict"
      ]
     },
     "execution_count": 2,
     "metadata": {},
     "output_type": "execute_result"
    }
   ],
   "source": [
    "type(food1)"
   ]
  },
  {
   "cell_type": "code",
   "execution_count": 3,
   "id": "3895d366-95cc-415a-8857-b434ed9386a1",
   "metadata": {},
   "outputs": [
    {
     "data": {
      "text/plain": [
       "dict_keys(['samosa', 'pakora', 'Raita', 'Salad'])"
      ]
     },
     "execution_count": 3,
     "metadata": {},
     "output_type": "execute_result"
    }
   ],
   "source": [
    "# extract data\n",
    "food1.keys()"
   ]
  },
  {
   "cell_type": "code",
   "execution_count": 4,
   "id": "054f7284-5b32-4bfc-8e5b-b1aaa83af473",
   "metadata": {},
   "outputs": [
    {
     "data": {
      "text/plain": [
       "dict_values([30, 50, 40, 30])"
      ]
     },
     "execution_count": 4,
     "metadata": {},
     "output_type": "execute_result"
    }
   ],
   "source": [
    "food1.values()"
   ]
  },
  {
   "cell_type": "code",
   "execution_count": 5,
   "id": "52f68beb-70cc-4a92-a804-f9eaaeb17c68",
   "metadata": {},
   "outputs": [
    {
     "data": {
      "text/plain": [
       "{'samosa': 30, 'pakora': 50, 'Raita': 40, 'Salad': 30, 'chicken rolls': 60}"
      ]
     },
     "execution_count": 5,
     "metadata": {},
     "output_type": "execute_result"
    }
   ],
   "source": [
    "# adding new element\n",
    "food1[\"chicken rolls\"]= 60\n",
    "food1"
   ]
  },
  {
   "cell_type": "code",
   "execution_count": 6,
   "id": "893c0918-58f6-48aa-b648-ffcf66d2163a",
   "metadata": {},
   "outputs": [
    {
     "data": {
      "text/plain": [
       "{'chocolates': 50, 'burger': 100, 'pizza': 500}"
      ]
     },
     "execution_count": 6,
     "metadata": {},
     "output_type": "execute_result"
    }
   ],
   "source": [
    "food2={\"chocolates\": 50, \"burger\":100, \"pizza\":500}\n",
    "food2"
   ]
  },
  {
   "cell_type": "code",
   "execution_count": 7,
   "id": "be3f7f54-6118-4f3c-b6c6-67c7d10c627b",
   "metadata": {},
   "outputs": [
    {
     "data": {
      "text/plain": [
       "{'samosa': 30,\n",
       " 'pakora': 50,\n",
       " 'Raita': 40,\n",
       " 'Salad': 30,\n",
       " 'chicken rolls': 60,\n",
       " 'chocolates': 50,\n",
       " 'burger': 100,\n",
       " 'pizza': 500}"
      ]
     },
     "execution_count": 7,
     "metadata": {},
     "output_type": "execute_result"
    }
   ],
   "source": [
    "food1.update(food2)\n",
    "food1"
   ]
  },
  {
   "cell_type": "markdown",
   "id": "5f9725f8-66db-41f6-ab0d-42bd3aa9008c",
   "metadata": {},
   "source": [
    "## 4- Sets\n",
    "- unordered and unindexed\n",
    "- curly brakets used {}\n",
    "- no dulicate allowed "
   ]
  },
  {
   "cell_type": "code",
   "execution_count": 8,
   "id": "059164a4-58d3-4bc6-b469-8f65bd32e3f4",
   "metadata": {},
   "outputs": [
    {
     "data": {
      "text/plain": [
       "{1, 3.5, 56.8, 'AAMIR', 'Nawabshah,', 'learning python'}"
      ]
     },
     "execution_count": 8,
     "metadata": {},
     "output_type": "execute_result"
    }
   ],
   "source": [
    "s1={1, 3.5, 56.8, \"AAMIR\", \"Nawabshah,\", \"learning python\"}\n",
    "s1"
   ]
  },
  {
   "cell_type": "code",
   "execution_count": 12,
   "id": "12562f8d-8c52-42e0-bf93-1952ec9399bb",
   "metadata": {},
   "outputs": [
    {
     "data": {
      "text/plain": [
       "{1, 3.5, 56.8, 'AAMIR', 'Nawabshah,', 'aamir raza', 'learning python'}"
      ]
     },
     "execution_count": 12,
     "metadata": {},
     "output_type": "execute_result"
    }
   ],
   "source": [
    "s1.add(\"aamir raza\")\n",
    "s1"
   ]
  }
 ],
 "metadata": {
  "kernelspec": {
   "display_name": "Python 3 (ipykernel)",
   "language": "python",
   "name": "python3"
  },
  "language_info": {
   "codemirror_mode": {
    "name": "ipython",
    "version": 3
   },
   "file_extension": ".py",
   "mimetype": "text/x-python",
   "name": "python",
   "nbconvert_exporter": "python",
   "pygments_lexer": "ipython3",
   "version": "3.12.7"
  }
 },
 "nbformat": 4,
 "nbformat_minor": 5
}
